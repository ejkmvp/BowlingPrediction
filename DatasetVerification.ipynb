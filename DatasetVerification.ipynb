{
 "cells": [
  {
   "cell_type": "code",
   "execution_count": 1,
   "id": "5d88c228-e93e-406e-b9da-8d5f918807d8",
   "metadata": {},
   "outputs": [],
   "source": [
    "import csv"
   ]
  },
  {
   "cell_type": "code",
   "execution_count": 2,
   "id": "78801e2c-7212-49fc-bffd-b5f6426e6ad6",
   "metadata": {},
   "outputs": [],
   "source": [
    "f = open(\"ScoreDetailAllShots.csv\")\n",
    "g = open(\"ScoreDetailCorrectGames.csv\", \"w\")"
   ]
  },
  {
   "cell_type": "code",
   "execution_count": 3,
   "id": "5ebbbc03-3019-44e9-bdea-3067a7f172dc",
   "metadata": {},
   "outputs": [],
   "source": [
    "reader = csv.reader(f)\n",
    "writer = csv.writer(g)"
   ]
  },
  {
   "cell_type": "code",
   "execution_count": 6,
   "id": "58384cca-f7b9-4c44-b3ab-ae15d6ed3512",
   "metadata": {},
   "outputs": [
    {
     "data": {
      "text/plain": [
       "1912"
      ]
     },
     "execution_count": 6,
     "metadata": {},
     "output_type": "execute_result"
    }
   ],
   "source": [
    "writer.writerow(next(reader))"
   ]
  },
  {
   "cell_type": "code",
   "execution_count": 16,
   "id": "0b66eaf8-e459-4c40-a9b9-830f7d58b451",
   "metadata": {},
   "outputs": [
    {
     "name": "stdout",
     "output_type": "stream",
     "text": [
      "3506\n",
      "100000\n"
     ]
    }
   ],
   "source": [
    "badGameCount = 0\n",
    "gameCount = 0\n",
    "for row in reader:\n",
    "    gameCount += 1\n",
    "    if len(row) == 201:\n",
    "        runningScore = 0\n",
    "        nextShotMult = 1\n",
    "        nextNextShotMult = 1\n",
    "        line = [int(x) for x in row]\n",
    "        for frame in range(9):\n",
    "            firstShot = 10 - sum(line[20 * frame : 20 * frame + 10])\n",
    "            secondShot = 10 - sum(line[20 * frame + 10 : 20 * frame + 20 ])\n",
    "            if firstShot == 10:\n",
    "                # strike\n",
    "                runningScore += 10 * nextShotMult\n",
    "                nextShotMult = nextNextShotMult + 1\n",
    "                nextNextShotMult = 2\n",
    "            else:\n",
    "                runningScore += firstShot * nextShotMult + (secondShot - firstShot) * nextNextShotMult\n",
    "                if secondShot == 10:\n",
    "                    nextShotMult = 2\n",
    "                else:\n",
    "                    nextShotMult = 1\n",
    "                nextNextShotMult = 1\n",
    "        # handle tenth frame\n",
    "        firstShot = 10 - sum(line[180: 190])\n",
    "        secondShot = 10 - sum(line[190:200])\n",
    "        if firstShot == 10:\n",
    "            runningScore += 10 * nextShotMult + secondShot * nextNextShotMult\n",
    "        else:\n",
    "            runningScore += firstShot * nextShotMult + (secondShot - firstShot) * nextNextShotMult\n",
    "        #print(runningScore)\n",
    "        #print(line[200])\n",
    "        if not (runningScore <= line[200] <= runningScore + 10):\n",
    "            #print(line)\n",
    "            badGameCount += 1\n",
    "    if gameCount >= 100000:\n",
    "        break\n",
    "print(badGameCount)\n",
    "print(gameCount)\n",
    "                "
   ]
  },
  {
   "cell_type": "code",
   "execution_count": null,
   "id": "63156eb7-5876-4a0d-8ba3-7cb69afce590",
   "metadata": {},
   "outputs": [],
   "source": []
  }
 ],
 "metadata": {
  "kernelspec": {
   "display_name": "Python 3 (ipykernel)",
   "language": "python",
   "name": "python3"
  },
  "language_info": {
   "codemirror_mode": {
    "name": "ipython",
    "version": 3
   },
   "file_extension": ".py",
   "mimetype": "text/x-python",
   "name": "python",
   "nbconvert_exporter": "python",
   "pygments_lexer": "ipython3",
   "version": "3.9.13"
  }
 },
 "nbformat": 4,
 "nbformat_minor": 5
}
