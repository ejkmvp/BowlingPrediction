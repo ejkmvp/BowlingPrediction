{
 "cells": [
  {
   "cell_type": "code",
   "execution_count": 2,
   "id": "220d5a1b",
   "metadata": {},
   "outputs": [
    {
     "ename": "ModuleNotFoundError",
     "evalue": "No module named 'tensorflow'",
     "output_type": "error",
     "traceback": [
      "\u001b[1;31m---------------------------------------------------------------------------\u001b[0m",
      "\u001b[1;31mModuleNotFoundError\u001b[0m                       Traceback (most recent call last)",
      "Cell \u001b[1;32mIn[2], line 3\u001b[0m\n\u001b[0;32m      1\u001b[0m \u001b[38;5;28;01mimport\u001b[39;00m \u001b[38;5;21;01mmath\u001b[39;00m\n\u001b[0;32m      2\u001b[0m \u001b[38;5;28;01mimport\u001b[39;00m \u001b[38;5;21;01mos\u001b[39;00m\n\u001b[1;32m----> 3\u001b[0m \u001b[38;5;28;01mimport\u001b[39;00m \u001b[38;5;21;01mtensorflow\u001b[39;00m\n\u001b[0;32m      4\u001b[0m \u001b[38;5;28;01mimport\u001b[39;00m \u001b[38;5;21;01mkeras\u001b[39;00m\n\u001b[0;32m      5\u001b[0m \u001b[38;5;28;01mfrom\u001b[39;00m \u001b[38;5;21;01mkeras\u001b[39;00m\u001b[38;5;21;01m.\u001b[39;00m\u001b[38;5;21;01mutils\u001b[39;00m \u001b[38;5;28;01mimport\u001b[39;00m PyDataset\n",
      "\u001b[1;31mModuleNotFoundError\u001b[0m: No module named 'tensorflow'"
     ]
    }
   ],
   "source": [
    "import math\n",
    "import os\n",
    "import tensorflow\n",
    "import keras\n",
    "from keras.utils import PyDataset\n",
    "import numpy\n",
    "tensorflow.config.list_physical_devices('GPU')"
   ]
  },
  {
   "cell_type": "code",
   "execution_count": 3,
   "id": "7928db36",
   "metadata": {},
   "outputs": [
    {
     "ename": "NameError",
     "evalue": "name 'keras' is not defined",
     "output_type": "error",
     "traceback": [
      "\u001b[1;31m---------------------------------------------------------------------------\u001b[0m",
      "\u001b[1;31mNameError\u001b[0m                                 Traceback (most recent call last)",
      "Cell \u001b[1;32mIn[3], line 2\u001b[0m\n\u001b[0;32m      1\u001b[0m NUM_SHOTS_ACCOUNT \u001b[38;5;241m=\u001b[39m \u001b[38;5;241m12\u001b[39m\n\u001b[1;32m----> 2\u001b[0m inputLayer \u001b[38;5;241m=\u001b[39m \u001b[43mkeras\u001b[49m\u001b[38;5;241m.\u001b[39mInput(shape\u001b[38;5;241m=\u001b[39m(\u001b[38;5;241m10\u001b[39m \u001b[38;5;241m*\u001b[39m NUM_SHOTS_ACCOUNT,))\n\u001b[0;32m      3\u001b[0m hidden1 \u001b[38;5;241m=\u001b[39m keras\u001b[38;5;241m.\u001b[39mlayers\u001b[38;5;241m.\u001b[39mDense(\u001b[38;5;241m64\u001b[39m, activation\u001b[38;5;241m=\u001b[39m\u001b[38;5;124m\"\u001b[39m\u001b[38;5;124mrelu\u001b[39m\u001b[38;5;124m\"\u001b[39m)(inputLayer)\n\u001b[0;32m      4\u001b[0m hidden2 \u001b[38;5;241m=\u001b[39m keras\u001b[38;5;241m.\u001b[39mlayers\u001b[38;5;241m.\u001b[39mDense(\u001b[38;5;241m32\u001b[39m, activation\u001b[38;5;241m=\u001b[39m\u001b[38;5;124m\"\u001b[39m\u001b[38;5;124mrelu\u001b[39m\u001b[38;5;124m\"\u001b[39m)(hidden1)\n",
      "\u001b[1;31mNameError\u001b[0m: name 'keras' is not defined"
     ]
    }
   ],
   "source": [
    "NUM_SHOTS_ACCOUNT = 12\n",
    "inputLayer = keras.Input(shape=(10 * NUM_SHOTS_ACCOUNT,))\n",
    "hidden1 = keras.layers.Dense(64, activation=\"relu\")(inputLayer)\n",
    "hidden2 = keras.layers.Dense(32, activation=\"relu\")(hidden1)\n",
    "hidden3 = keras.layers.Dense(16, activation=\"relu\")(hidden2)\n",
    "outputLayer = keras.layers.Dense(1, activation=\"sigmoid\")(hidden3)\n",
    "model = keras.Model(inputs=inputLayer, outputs=outputLayer)\n",
    "model.summary()"
   ]
  },
  {
   "cell_type": "code",
   "execution_count": null,
   "id": "090dc16f",
   "metadata": {},
   "outputs": [],
   "source": [
    "# impletment dataset\n",
    "class BowlingDataset(PyDataset):\n",
    "    def __init__(self, fileName, batch_size, **kwargs):\n",
    "        super().__init__(**kwargs)\n",
    "        self.f = open(fileName, \"rb\")\n",
    "        self.batch_size = batch_size\n",
    "        self.length = int(os.stat(fileName).st_size/27)\n",
    "        \n",
    "    def __len__(self):\n",
    "        return math.floor(self.length / self.batch_size)\n",
    "    \n",
    "    def __getitem__(self, idx):\n",
    "        xArray = []\n",
    "        yArray = []\n",
    "        lowGame = idx * self.batch_size * 27\n",
    "        self.f.seek(lowGame)\n",
    "        for x in range(self.batch_size):\n",
    "            gameData = self.f.read(27)\n",
    "            tempArray = []\n",
    "            for x in range(25):\n",
    "                tempArray += [v for v in format(gameData[x], \"08b\")]\n",
    "            finalScore = gameData[-1] * 256 + gameData[-2]\n",
    "            xArray.append([float(v) for v in tempArray][:120])\n",
    "            yArray.append(finalScore)\n",
    "        return numpy.array(xArray), numpy.array(yArray)\n",
    "            "
   ]
  },
  {
   "cell_type": "code",
   "execution_count": 1,
   "id": "10bc31de-b821-4dc6-a836-cb34ffef1742",
   "metadata": {},
   "outputs": [
    {
     "ename": "NameError",
     "evalue": "name 'BowlingDataset' is not defined",
     "output_type": "error",
     "traceback": [
      "\u001b[1;31m---------------------------------------------------------------------------\u001b[0m",
      "\u001b[1;31mNameError\u001b[0m                                 Traceback (most recent call last)",
      "Cell \u001b[1;32mIn[1], line 1\u001b[0m\n\u001b[1;32m----> 1\u001b[0m dataset \u001b[38;5;241m=\u001b[39m \u001b[43mBowlingDataset\u001b[49m(\u001b[38;5;124m\"\u001b[39m\u001b[38;5;124mScoreDetailDataset.txt\u001b[39m\u001b[38;5;124m\"\u001b[39m, \u001b[38;5;241m1\u001b[39m)\n\u001b[0;32m      2\u001b[0m \u001b[38;5;66;03m# verify that games loaded from the traindataset are valid\u001b[39;00m\n\u001b[0;32m      3\u001b[0m \u001b[38;5;28;01mfor\u001b[39;00m x \u001b[38;5;129;01min\u001b[39;00m \u001b[38;5;28mrange\u001b[39m(\u001b[38;5;28mlen\u001b[39m(trainData)):\n",
      "\u001b[1;31mNameError\u001b[0m: name 'BowlingDataset' is not defined"
     ]
    }
   ],
   "source": []
  },
  {
   "cell_type": "code",
   "execution_count": null,
   "id": "6c91db04",
   "metadata": {},
   "outputs": [],
   "source": [
    "model.compile(\n",
    "    loss=\"mean_squared_error\",\n",
    "    optimizer=keras.optimizers.Adam(learning_rate=0.0005)\n",
    ")"
   ]
  },
  {
   "cell_type": "code",
   "execution_count": null,
   "id": "dc08b34e",
   "metadata": {},
   "outputs": [],
   "source": [
    "model.fit(BowlingDataset(\"ScoreDetailDataset.txt\", 32, use_multiprocessing=True, workers=16, max_queue_size=32), shuffle=True, epochs=10)"
   ]
  },
  {
   "cell_type": "code",
   "execution_count": null,
   "id": "4e9765d2",
   "metadata": {},
   "outputs": [],
   "source": [
    "# since we just want one batch, initialize a bowlingdataset with a batch size equal to the number of entries\n",
    "testDataset = BowlingDataset(\"ScoreDetailDatasetVSplit.txt\", 1000)\n",
    "error = model.test_on_batch(allData[0], allData[1])\n",
    "print(error)"
   ]
  },
  {
   "cell_type": "code",
   "execution_count": null,
   "id": "290b33e6",
   "metadata": {},
   "outputs": [],
   "source": [
    "name = str(int(NUM_SHOTS_ACCOUNT)) + (\"-5\" if NUM_SHOTS_ACCOUNT % 2 else \"\")\n",
    "model.save(\"KerasModels/\" + name + \"Frames.keras\")"
   ]
  }
 ],
 "metadata": {
  "kernelspec": {
   "display_name": "Python 3 (ipykernel)",
   "language": "python",
   "name": "python3"
  },
  "language_info": {
   "codemirror_mode": {
    "name": "ipython",
    "version": 3
   },
   "file_extension": ".py",
   "mimetype": "text/x-python",
   "name": "python",
   "nbconvert_exporter": "python",
   "pygments_lexer": "ipython3",
   "version": "3.10.6"
  }
 },
 "nbformat": 4,
 "nbformat_minor": 5
}
